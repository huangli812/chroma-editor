{
 "cells": [
  {
   "cell_type": "code",
   "execution_count": null,
   "id": "9b4b12a9",
   "metadata": {},
   "outputs": [],
   "source": [
    "from src.chroma_editor.generate_prompts import generate_prompts\n",
    "from create_data import add_facts_to_collection, Fact\n",
    "import uuid"
   ]
  },
  {
   "cell_type": "code",
   "execution_count": null,
   "id": "052d62be",
   "metadata": {},
   "outputs": [],
   "source": [
    "prompts = generate_prompts(\"selections.json\")\n",
    "\n",
    "add_facts_to_collection([Fact(id=str(uuid.uuid4()),category=\"Photo\",content=p) for p in prompts])"
   ]
  }
 ],
 "metadata": {
  "language_info": {
   "name": "python"
  }
 },
 "nbformat": 4,
 "nbformat_minor": 5
}
